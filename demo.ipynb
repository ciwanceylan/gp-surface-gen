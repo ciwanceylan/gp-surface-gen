{
 "cells": [
  {
   "cell_type": "code",
   "execution_count": null,
   "id": "c252a048",
   "metadata": {},
   "outputs": [],
   "source": [
    "%matplotlib notebook\n",
    "import torch\n",
    "import matplotlib.pyplot as plt\n",
    "from mpl_toolkits import mplot3d\n",
    "import gp_surfaces as gp_surfaces"
   ]
  },
  {
   "cell_type": "markdown",
   "id": "d7de0492",
   "metadata": {},
   "source": [
    "## Setup the GP surface parameters"
   ]
  },
  {
   "cell_type": "code",
   "execution_count": null,
   "id": "05a920a7",
   "metadata": {},
   "outputs": [],
   "source": [
    "grid_size = 40\n",
    "grid_bounds = (0., 1.)\n",
    "surface_dims = 2\n",
    "space_dims = 3\n",
    "kernel = gp_surfaces.get_kernel('periodic', lengthscale=1)"
   ]
  },
  {
   "cell_type": "markdown",
   "id": "24250b3e",
   "metadata": {},
   "source": [
    "## Create the GP surface. May take some time for very large grid sizes"
   ]
  },
  {
   "cell_type": "code",
   "execution_count": null,
   "id": "63b46078",
   "metadata": {},
   "outputs": [],
   "source": [
    "gp_surface = gp_surfaces.GPSurface(kernel, 3, 2, grid_size, grid_bounds=grid_bounds)"
   ]
  },
  {
   "cell_type": "markdown",
   "id": "e6cce870",
   "metadata": {},
   "source": [
    "## Plot the target points used for fit the surface"
   ]
  },
  {
   "cell_type": "code",
   "execution_count": null,
   "id": "31bb49c5",
   "metadata": {},
   "outputs": [],
   "source": [
    "fig = plt.figure()\n",
    "ax = fig.add_subplot(111, projection='3d')\n",
    "ax.scatter(*gp_surface._surface.targets)"
   ]
  },
  {
   "cell_type": "markdown",
   "id": "d284b01a",
   "metadata": {},
   "source": [
    "## Plot the surface as a mesh"
   ]
  },
  {
   "cell_type": "code",
   "execution_count": null,
   "id": "8939845d",
   "metadata": {
    "scrolled": true
   },
   "outputs": [],
   "source": [
    "gp_surface.plot_surface()"
   ]
  },
  {
   "cell_type": "markdown",
   "id": "46966fdd",
   "metadata": {},
   "source": [
    "## Sample points uniformly on the surface"
   ]
  },
  {
   "cell_type": "code",
   "execution_count": null,
   "id": "9c7ee624",
   "metadata": {},
   "outputs": [],
   "source": [
    "inputs = torch.rand((1000, surface_dims))\n",
    "data = gp_surface.evaluate_surface(inputs)"
   ]
  },
  {
   "cell_type": "code",
   "execution_count": null,
   "id": "f99234a1",
   "metadata": {},
   "outputs": [],
   "source": [
    "fig = plt.figure()\n",
    "ax = fig.add_subplot(111, projection='3d')\n",
    "ax.scatter(*data)"
   ]
  },
  {
   "cell_type": "markdown",
   "id": "440c050e",
   "metadata": {},
   "source": [
    "## Sample points uniformly on a subspace of the surface"
   ]
  },
  {
   "cell_type": "code",
   "execution_count": null,
   "id": "bfdb9d95",
   "metadata": {},
   "outputs": [],
   "source": [
    "subspace_dim = 1\n",
    "subspace_inputs = gp_surfaces.sample_uniform_from_subspace(100, surface_dims, subspace_dim)\n",
    "subspace_data = gp_surface.evaluate_surface(subspace_inputs)"
   ]
  },
  {
   "cell_type": "code",
   "execution_count": null,
   "id": "4fe2637b",
   "metadata": {},
   "outputs": [],
   "source": [
    "fig = plt.figure()\n",
    "ax = fig.add_subplot(111, projection='3d')\n",
    "ax.scatter(*subspace_data)"
   ]
  }
 ],
 "metadata": {
  "kernelspec": {
   "display_name": "Python 3 (ipykernel)",
   "language": "python",
   "name": "python3"
  },
  "language_info": {
   "codemirror_mode": {
    "name": "ipython",
    "version": 3
   },
   "file_extension": ".py",
   "mimetype": "text/x-python",
   "name": "python",
   "nbconvert_exporter": "python",
   "pygments_lexer": "ipython3",
   "version": "3.9.6"
  }
 },
 "nbformat": 4,
 "nbformat_minor": 5
}
